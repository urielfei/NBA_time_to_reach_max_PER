{
 "cells": [
  {
   "cell_type": "code",
   "execution_count": 22,
   "metadata": {
    "collapsed": true
   },
   "outputs": [],
   "source": [
    "import pandas as pd\n",
    "import numpy as np\n",
    "#from get_data_from_nbaApi import get_player_bio\n",
    "#from Scrape_data_from_ESPN import get_players_PER_stats, url_params"
   ]
  },
  {
   "cell_type": "markdown",
   "source": [
    "The data was prepared using the main.py script, which calls:\n",
    "\n",
    "get_data_from_nbaApi.py - Raw data from NBA API. <br>\n",
    "Scrape_data_from_ESPN.py - Scraped data from ESPN website. <br>\n",
    "data_handle.py - Combine the scripts, adds calculations, continent and more. <br>\n",
    "\n",
    "The data was pulled starting from 2003 season <br>\n",
    "Let's have a look at the data"
   ],
   "metadata": {
    "collapsed": false
   }
  },
  {
   "cell_type": "code",
   "execution_count": 84,
   "outputs": [
    {
     "name": "stdout",
     "output_type": "stream",
     "text": [
      "      PLAYER_NAME  year    PER COUNTRY      continent   AGE DRAFT_YEAR  \\\n",
      "0   Kevin Garnett  2003  26.46     USA  North America  27.0       1995   \n",
      "1   Desmond Mason  2003  15.40     USA  North America  25.0       2000   \n",
      "2     Troy Murphy  2003  15.38     USA  North America  23.0       2001   \n",
      "3  Scottie Pippen  2003  15.36     USA  North America  37.0       1987   \n",
      "4     Vlade Divac  2003  15.25  Serbia         Europe  35.0       1989   \n",
      "\n",
      "   year_max_per  max_per  player_min_year  \n",
      "0          2004    29.50             2003  \n",
      "1          2004    15.66             2003  \n",
      "2          2010    18.07             2003  \n",
      "3          2003    15.36             2003  \n",
      "4          2004    16.29             2003  \n",
      "              year          PER          AGE  year_max_per      max_per  \\\n",
      "count  6863.000000  6863.000000  6807.000000   6863.000000  6863.000000   \n",
      "mean   2012.770363    14.331237    27.045541   2012.300160    17.385353   \n",
      "std       5.766744     4.328504     4.203707      6.067814     4.623310   \n",
      "min    2003.000000     0.000000    19.000000   2003.000000     0.000000   \n",
      "25%    2008.000000    11.320000    24.000000   2007.000000    14.250000   \n",
      "50%    2013.000000    13.880000    27.000000   2012.000000    16.820000   \n",
      "75%    2018.000000    16.740000    30.000000   2018.000000    20.020000   \n",
      "max    2022.000000    32.940000    43.000000   2022.000000    32.940000   \n",
      "\n",
      "       player_min_year  \n",
      "count      6863.000000  \n",
      "mean       2009.030307  \n",
      "std           5.630926  \n",
      "min        2003.000000  \n",
      "25%        2003.000000  \n",
      "50%        2008.000000  \n",
      "75%        2013.000000  \n",
      "max        2022.000000  \n",
      "PLAYER_NAME         0\n",
      "year                0\n",
      "PER                 0\n",
      "COUNTRY            56\n",
      "continent          56\n",
      "AGE                56\n",
      "DRAFT_YEAR         56\n",
      "year_max_per        0\n",
      "max_per             0\n",
      "player_min_year     0\n",
      "dtype: int64\n"
     ]
    }
   ],
   "source": [
    "df = pd.read_csv('final_df.csv')\n",
    "print(df.head())\n",
    "print(df.describe())\n",
    "print(df.isna().sum())"
   ],
   "metadata": {
    "collapsed": false,
    "pycharm": {
     "name": "#%%\n"
    }
   }
  },
  {
   "cell_type": "markdown",
   "source": [
    "First, we see some nulls to take care. <br>\n",
    "We need to decide which years are relevant."
   ],
   "metadata": {
    "collapsed": false,
    "pycharm": {
     "name": "#%% md\n"
    }
   }
  },
  {
   "cell_type": "code",
   "execution_count": 34,
   "outputs": [
    {
     "name": "stdout",
     "output_type": "stream",
     "text": [
      "year        2003  2004  2005  2006  2007  2008  2009  2010  2011  2012  2013  \\\n",
      "DRAFT_YEAR                                                                     \n",
      "1984           3     0     0     0     0     0     0     0     0     0     0   \n",
      "1985           2     1     0     0     0     0     0     0     0     0     0   \n",
      "1986           1     0     0     0     0     0     0     0     0     0     0   \n",
      "1987           4     3     1     0     0     0     0     0     0     0     0   \n",
      "1988           4     1     0     0     0     0     0     0     0     0     0   \n",
      "1989           5     2     1     1     1     0     0     0     0     0     0   \n",
      "1990          10     7     4     3     1     0     0     0     0     0     0   \n",
      "1991           5     6     4     1     1     1     0     0     0     0     0   \n",
      "1992          12    12    11     5     4     2     1     1     1     0     0   \n",
      "1993          17    16    12     3     3     1     0     0     0     0     0   \n",
      "1994          14    14    14     7     5     3     2     3     3     2     1   \n",
      "1995          21    19    18    13    11     9     8     8     3     2     2   \n",
      "1996          24    25    21    17    15    13    10    10     8     6     5   \n",
      "1997          22    25    23    19    16    13    11     5     5     5     2   \n",
      "1998          31    27    27    24    21    20    16    11     8     8     6   \n",
      "1999          24    24    23    22    19    17    16    13    14    10     9   \n",
      "2000          27    27    28    26    20    16    15    11    10     9     3   \n",
      "2001          28    28    28    26    24    23    20    19    16    17    13   \n",
      "2002          20    25    24    21    18    25    18    15    13    13    10   \n",
      "2003           0    25    32    35    33    32    30    30    26    26    23   \n",
      "2004           0     0    25    32    26    26    21    23    23    23    21   \n",
      "2005           0     0     0    25    35    30    31    29    31    28    24   \n",
      "2006           0     0     0     0    29    28    26    23    20    19    15   \n",
      "2007           0     0     0     0     0    28    29    27    30    23    24   \n",
      "2008           0     0     0     0     0     0    32    31    36    30    28   \n",
      "2009           0     0     0     0     0     0     0    32    31    34    38   \n",
      "2010           0     0     0     0     0     0     0     0    22    25    24   \n",
      "2011           0     0     0     0     0     0     0     0     0    32    31   \n",
      "2012           0     0     0     0     0     0     0     0     0     0    28   \n",
      "2013           0     0     0     0     0     0     0     0     0     0     0   \n",
      "2014           0     0     0     0     0     0     0     0     0     0     0   \n",
      "2015           0     0     0     0     0     0     0     0     0     0     0   \n",
      "2016           0     0     0     0     0     0     0     0     0     0     0   \n",
      "2017           0     0     0     0     0     0     0     0     0     0     0   \n",
      "2018           0     0     0     0     0     0     0     0     0     0     0   \n",
      "2019           0     0     0     0     0     0     0     0     0     0     0   \n",
      "2020           0     0     0     0     0     0     0     0     0     0     0   \n",
      "2021           0     0     0     0     0     0     0     0     0     0     0   \n",
      "Undrafted     33    32    33    39    41    35    39    37    34    36    34   \n",
      "\n",
      "year        2014  2015  2016  2017  2018  2019  2020  2021  2022  \n",
      "DRAFT_YEAR                                                        \n",
      "1984           0     0     0     0     0     0     0     0     0  \n",
      "1985           0     0     0     0     0     0     0     0     0  \n",
      "1986           0     0     0     0     0     0     0     0     0  \n",
      "1987           0     0     0     0     0     0     0     0     0  \n",
      "1988           0     0     0     0     0     0     0     0     0  \n",
      "1989           0     0     0     0     0     0     0     0     0  \n",
      "1990           0     0     0     0     0     0     0     0     0  \n",
      "1991           0     0     0     0     0     0     0     0     0  \n",
      "1992           0     0     0     0     0     0     0     0     0  \n",
      "1993           0     0     0     0     0     0     0     0     0  \n",
      "1994           0     0     0     0     0     0     0     0     0  \n",
      "1995           1     1     1     0     0     0     0     0     0  \n",
      "1996           3     1     1     0     0     0     0     0     0  \n",
      "1997           1     1     1     0     0     0     0     0     0  \n",
      "1998           6     3     3     2     2     2     1     0     0  \n",
      "1999           6     4     3     2     2     0     0     0     0  \n",
      "2000           3     3     1     1     1     1     0     0     0  \n",
      "2001           9     7     6     6     5     2     0     0     0  \n",
      "2002           8     9     5     2     0     0     0     0     0  \n",
      "2003          18    19    14     8     6     4     3     2     2  \n",
      "2004          16    17    15    12     7     4     2     3     2  \n",
      "2005          24    20    18    16    12     8     5     2     2  \n",
      "2006          14    13    10    10     8     8     7     7     5  \n",
      "2007          22    22    20    18    11    10     7     6     5  \n",
      "2008          29    31    26    24    21    16    14    15    12  \n",
      "2009          31    28    26    24    19    19    12    13    12  \n",
      "2010          24    21    21    19    18    15     8    10     9  \n",
      "2011          32    32    31    31    23    24    20    17    15  \n",
      "2012          32    32    28    26    26    21    18    16    15  \n",
      "2013          20    33    30    29    26    24    24    24    17  \n",
      "2014           0    21    25    30    28    29    26    21    19  \n",
      "2015           0     0    27    30    34    32    25    26    24  \n",
      "2016           0     0     0    23    29    27    29    22    17  \n",
      "2017           0     0     0     0    31    36    32    27    25  \n",
      "2018           0     0     0     0     0    30    41    35    34  \n",
      "2019           0     0     0     0     0     0    27    39    35  \n",
      "2020           0     0     0     0     0     0     0    30    34  \n",
      "2021           0     0     0     0     0     0     0     0    32  \n",
      "Undrafted     35    44    35    41    43    48    55    57    59  \n"
     ]
    }
   ],
   "source": [
    "piv = df.pivot_table(index = 'DRAFT_YEAR',\n",
    "                     columns='year',\n",
    "                     values='PER',\n",
    "                     aggfunc='count',\n",
    "                     fill_value = 0)\n",
    "\n",
    "print(piv)\n"
   ],
   "metadata": {
    "collapsed": false,
    "pycharm": {
     "name": "#%%\n"
    }
   }
  },
  {
   "cell_type": "code",
   "execution_count": 86,
   "outputs": [
    {
     "name": "stdout",
     "output_type": "stream",
     "text": [
      "     index       PLAYER_NAME  year    PER      COUNTRY      continent   AGE  \\\n",
      "480   4454  Boban Marjanovic  2016  27.77       Serbia         Europe  27.0   \n",
      "603   5526  Boban Marjanovic  2019  24.25       Serbia         Europe  30.0   \n",
      "686   6033    Christian Wood  2020  23.22          USA  North America  24.0   \n",
      "702   6212     Chris Boucher  2021  21.97  Saint Lucia  North America  28.0   \n",
      "182   1741     Jose Calderon  2008  20.77        Spain         Europe  26.0   \n",
      "\n",
      "    DRAFT_YEAR  year_max_per  max_per  player_min_year  \n",
      "480  Undrafted          2016    27.77             2016  \n",
      "603  Undrafted          2016    27.77             2016  \n",
      "686  Undrafted          2020    23.22             2020  \n",
      "702  Undrafted          2021    21.97             2020  \n",
      "182  Undrafted          2008    20.77             2006  \n",
      "       PER                  \n",
      "     count    max       mean\n",
      "year                        \n",
      "2003    33  18.80  11.116970\n",
      "2004    32  20.13  12.499375\n",
      "2005    33  20.72  12.464242\n",
      "2006    39  19.88  12.641282\n",
      "2007    41  19.19  12.482439\n",
      "2008    35  20.77  11.648000\n",
      "2009    39  18.80  11.261026\n",
      "2010    37  16.58  11.488378\n",
      "2011    34  19.03  12.022941\n",
      "2012    36  19.97  11.752500\n",
      "2013    34  18.80  12.217941\n",
      "2014    35  18.56  11.870000\n",
      "2015    44  19.51  12.093864\n",
      "2016    35  27.77  12.714000\n",
      "2017    41  19.59  12.166341\n",
      "2018    43  17.84  11.982558\n",
      "2019    48  24.25  11.991250\n",
      "2020    55  23.22  11.968727\n",
      "2021    57  21.97  12.206316\n",
      "2022    59  19.18  12.859492\n"
     ]
    }
   ],
   "source": [
    "df_undrafted = df[df['DRAFT_YEAR']=='Undrafted'].reset_index()\n",
    "print(df_undrafted.nlargest(5,'PER'))\n",
    "\n",
    "\n",
    "undrafted_pivot = df_undrafted.pivot_table(\n",
    "    df_undrafted[['PER']],\n",
    "    index = 'year',\n",
    "    aggfunc= ('count','max','mean')\n",
    ")\n",
    "\n",
    "print(undrafted_pivot)"
   ],
   "metadata": {
    "collapsed": false,
    "pycharm": {
     "name": "#%% Undrafted Players\n"
    }
   }
  },
  {
   "cell_type": "markdown",
   "source": [
    "Looks like there is some great information we're missing. We'll get back to this later. <br>\n",
    "For now, let's check the hypothesis on the drafted players only (For simplicity). <br>\n",
    "\n",
    "Clean data - nulls, use the relevant years (So the players have time to reach the maximum PER). <br>\n",
    "Calculate the KPI- Time to reach the maximum PER (in Years). <br>\n",
    "Defined as the difference between the year when the player reached the maximum PER and the Draft year."
   ],
   "metadata": {
    "collapsed": false
   }
  },
  {
   "cell_type": "code",
   "execution_count": 88,
   "outputs": [
    {
     "name": "stdout",
     "output_type": "stream",
     "text": [
      "PLAYER_NAME        0\n",
      "year               0\n",
      "PER                0\n",
      "COUNTRY            0\n",
      "continent          0\n",
      "AGE                0\n",
      "DRAFT_YEAR         0\n",
      "year_max_per       0\n",
      "max_per            0\n",
      "player_min_year    0\n",
      "dtype: int64\n",
      "              year          PER          AGE  year_max_per      max_per  \\\n",
      "count  3343.000000  3343.000000  3343.000000   3343.000000  3343.000000   \n",
      "mean   2014.910260    14.894921    25.918935   2014.906372    18.109698   \n",
      "std       4.246838     4.303676     3.515250      4.153535     4.535793   \n",
      "min    2005.000000     0.000000    19.000000   2005.000000     0.000000   \n",
      "25%    2012.000000    11.935000    23.000000   2012.000000    15.090000   \n",
      "50%    2015.000000    14.480000    26.000000   2015.000000    17.670000   \n",
      "75%    2018.000000    17.345000    28.000000   2018.000000    20.810000   \n",
      "max    2022.000000    32.940000    38.000000   2022.000000    32.940000   \n",
      "\n",
      "       player_min_year  time_to_max  \n",
      "count      3343.000000  3343.000000  \n",
      "mean       2010.776548     5.561472  \n",
      "std           3.735177     2.706527  \n",
      "min        2005.000000     0.000000  \n",
      "25%        2008.000000     4.000000  \n",
      "50%        2010.000000     5.000000  \n",
      "75%        2014.000000     7.000000  \n",
      "max        2021.000000    14.000000  \n",
      "        PLAYER_NAME  year    PER         COUNTRY      continent   AGE  \\\n",
      "652  Josh Childress  2005  15.22             USA  North America  22.0   \n",
      "654      Josh Smith  2005  15.46             USA  North America  19.0   \n",
      "659    Emeka Okafor  2005  16.39             USA  North America  22.0   \n",
      "688      Beno Udrih  2005  14.31        Slovenia         Europe  22.0   \n",
      "691       Luol Deng  2005  14.20  United Kingdom         Europe  20.0   \n",
      "\n",
      "    DRAFT_YEAR  year_max_per  max_per  player_min_year  time_to_max  \n",
      "652       2004          2008    18.00             2005            4  \n",
      "654       2004          2012    21.14             2005            8  \n",
      "659       2004          2007    20.15             2005            3  \n",
      "688       2004          2017    16.20             2005           13  \n",
      "691       2004          2007    18.79             2005            3  \n"
     ]
    }
   ],
   "source": [
    "df_use = df[df['DRAFT_YEAR']!='Undrafted']\n",
    "df_use = df_use[df_use['DRAFT_YEAR'].notna()]\n",
    "print(df_use.isna().sum())\n",
    "\n",
    "df_use = df_use[(df_use['DRAFT_YEAR'].astype(int) < 2017) & (df_use['DRAFT_YEAR'].astype(int) > 2003)]\n",
    "\n",
    "df_use['time_to_max'] = df_use['year_max_per'] - df_use['DRAFT_YEAR'].astype(int)\n",
    "\n",
    "print(df_use.describe())\n",
    "print(df_use.head())"
   ],
   "metadata": {
    "collapsed": false,
    "pycharm": {
     "name": "#%% Clean Data to use & Add time to\n"
    }
   }
  },
  {
   "cell_type": "markdown",
   "source": [
    "The years taken: <br>\n",
    "Drafted before 2017 (let's give all players at least 5 years of Per). <br>\n",
    "Drafted after 2003 (Start from players with 0 experience). <br>\n",
    "\n",
    "Now, Let's check the hypothesis and see the time that takes to the players to reach the maximum PER, by continent."
   ],
   "metadata": {
    "collapsed": false
   }
  },
  {
   "cell_type": "code",
   "execution_count": 82,
   "outputs": [
    {
     "name": "stdout",
     "output_type": "stream",
     "text": [
      "               time_to_max\n",
      "continent                 \n",
      "Africa            5.921053\n",
      "Asia              6.584906\n",
      "Europe            6.322816\n",
      "North America     5.404482\n",
      "Oceania           5.800000\n",
      "South America     6.233333\n"
     ]
    }
   ],
   "source": [
    "pivot_by_cont = df_use.pivot_table(\n",
    "     df_use[['time_to_max']],\n",
    "     index = 'continent'\n",
    ")\n",
    "print(pivot_by_cont)"
   ],
   "metadata": {
    "collapsed": false,
    "pycharm": {
     "name": "#%% Clean Data to use\n"
    }
   }
  }
 ],
 "metadata": {
  "kernelspec": {
   "display_name": "Python 3",
   "language": "python",
   "name": "python3"
  },
  "language_info": {
   "codemirror_mode": {
    "name": "ipython",
    "version": 2
   },
   "file_extension": ".py",
   "mimetype": "text/x-python",
   "name": "python",
   "nbconvert_exporter": "python",
   "pygments_lexer": "ipython2",
   "version": "2.7.6"
  }
 },
 "nbformat": 4,
 "nbformat_minor": 0
}